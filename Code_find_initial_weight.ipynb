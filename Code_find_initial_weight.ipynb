{
  "nbformat": 4,
  "nbformat_minor": 0,
  "metadata": {
    "colab": {
      "name": "Untitled23.ipynb",
      "provenance": [],
      "collapsed_sections": []
    },
    "kernelspec": {
      "name": "python3",
      "display_name": "Python 3"
    },
    "language_info": {
      "name": "python"
    }
  },
  "cells": [
    {
      "cell_type": "code",
      "execution_count": 1,
      "metadata": {
        "id": "j16C7MQ844uz"
      },
      "outputs": [],
      "source": [
        "import numpy as np"
      ]
    },
    {
      "cell_type": "code",
      "source": [
        "s = np.random.uniform(low = -2.0, high = 2.0, size = 10000)"
      ],
      "metadata": {
        "id": "d7yKJefh5FrR"
      },
      "execution_count": 4,
      "outputs": []
    },
    {
      "cell_type": "code",
      "source": [
        "t = np.random.uniform(low = 0, high = 5.0, size = 10000)"
      ],
      "metadata": {
        "id": "d9pnvUms5xo8"
      },
      "execution_count": 7,
      "outputs": []
    },
    {
      "cell_type": "code",
      "source": [
        "S = np.vstack((s,t)).T"
      ],
      "metadata": {
        "id": "meKSlEdG535l"
      },
      "execution_count": 12,
      "outputs": []
    },
    {
      "cell_type": "code",
      "source": [
        "u = -2*s-0.2*np.sin(0.3*t*s)*s"
      ],
      "metadata": {
        "id": "WiJuADbk6FzR"
      },
      "execution_count": 14,
      "outputs": []
    },
    {
      "cell_type": "code",
      "source": [
        "import torch \n",
        "import torch.nn as nn\n",
        "from torchsummary import summary"
      ],
      "metadata": {
        "id": "5k5q4nTe67vy"
      },
      "execution_count": 18,
      "outputs": []
    },
    {
      "cell_type": "code",
      "source": [
        "class Neural(nn.Module):\n",
        "    def __init__(self):\n",
        "        super(Neural,self).__init__()\n",
        "        self.fc1 = nn.Linear(2,8)\n",
        "        self.tanh = nn.Tanh()\n",
        "        self.fc2 = nn.Linear(8,1,bias=False)\n",
        "    def forward(self,x):\n",
        "        x = self.tanh(self.fc1(x))\n",
        "        x = self.fc2(x)\n",
        "        return x\n",
        "\n",
        "model = Neural()\n",
        "summary(model,(1,2))"
      ],
      "metadata": {
        "colab": {
          "base_uri": "https://localhost:8080/"
        },
        "id": "diV8hdbP7mOR",
        "outputId": "71126632-87e2-42cc-fc96-24787d052235"
      },
      "execution_count": 48,
      "outputs": [
        {
          "output_type": "stream",
          "name": "stdout",
          "text": [
            "----------------------------------------------------------------\n",
            "        Layer (type)               Output Shape         Param #\n",
            "================================================================\n",
            "            Linear-1                 [-1, 1, 8]              24\n",
            "              Tanh-2                 [-1, 1, 8]               0\n",
            "            Linear-3                 [-1, 1, 1]               8\n",
            "================================================================\n",
            "Total params: 32\n",
            "Trainable params: 32\n",
            "Non-trainable params: 0\n",
            "----------------------------------------------------------------\n",
            "Input size (MB): 0.00\n",
            "Forward/backward pass size (MB): 0.00\n",
            "Params size (MB): 0.00\n",
            "Estimated Total Size (MB): 0.00\n",
            "----------------------------------------------------------------\n"
          ]
        }
      ]
    },
    {
      "cell_type": "code",
      "source": [
        "from torch.utils.data import DataLoader,TensorDataset"
      ],
      "metadata": {
        "id": "4zK7lG--9NOw"
      },
      "execution_count": 49,
      "outputs": []
    },
    {
      "cell_type": "code",
      "source": [
        "dataset = DataLoader(TensorDataset(torch.Tensor(S),torch.Tensor(u)),batch_size = 1, shuffle = True)"
      ],
      "metadata": {
        "id": "eyZeZgoLPPpO"
      },
      "execution_count": 50,
      "outputs": []
    },
    {
      "cell_type": "code",
      "source": [
        "criterion = torch.nn.MSELoss()\n",
        "optimizer = torch.optim.Adam(model.parameters(),lr = 0.001)"
      ],
      "metadata": {
        "id": "Z040D6ksP35W"
      },
      "execution_count": 51,
      "outputs": []
    },
    {
      "cell_type": "code",
      "source": [
        "epochs = 20\n",
        "for epoch in range(epochs):\n",
        "    train_loss = 0\n",
        "    model.train()\n",
        "    for idx, inp in enumerate(dataset):\n",
        "        data,target = inp\n",
        "        optimizer.zero_grad()\n",
        "        pred = model(data)\n",
        "        loss = criterion(target,pred)\n",
        "        loss.backward()\n",
        "        optimizer.step()\n",
        "        train_loss += loss.item()\n",
        "    print(f\"Epoch {epoch+1}: MSE = {train_loss/len(dataset)}\")"
      ],
      "metadata": {
        "colab": {
          "base_uri": "https://localhost:8080/"
        },
        "id": "i2Hld-uVPid5",
        "outputId": "8da870d2-31e5-49e3-e9fe-8dc4a91ba525"
      },
      "execution_count": 52,
      "outputs": [
        {
          "output_type": "stream",
          "name": "stdout",
          "text": [
            "Epoch 1: MSE = 0.17171661894053555\n",
            "Epoch 2: MSE = 0.0023836693494926507\n",
            "Epoch 3: MSE = 0.001617050447203198\n",
            "Epoch 4: MSE = 0.0014340893954555116\n",
            "Epoch 5: MSE = 0.0012997531045300728\n",
            "Epoch 6: MSE = 0.0012287913063229873\n",
            "Epoch 7: MSE = 0.0011732362303478055\n",
            "Epoch 8: MSE = 0.0011278445157889045\n",
            "Epoch 9: MSE = 0.0010645430765723735\n",
            "Epoch 10: MSE = 0.000969185146115821\n",
            "Epoch 11: MSE = 0.000992362496416706\n",
            "Epoch 12: MSE = 0.0008723999736446261\n",
            "Epoch 13: MSE = 0.0008027411529372248\n",
            "Epoch 14: MSE = 0.000811734926372287\n",
            "Epoch 15: MSE = 0.0007640451662981317\n",
            "Epoch 16: MSE = 0.0007311093594343224\n",
            "Epoch 17: MSE = 0.0007719620227243303\n",
            "Epoch 18: MSE = 0.0007288723304066187\n",
            "Epoch 19: MSE = 0.0007044920111535414\n",
            "Epoch 20: MSE = 0.0006680309349017564\n"
          ]
        }
      ]
    },
    {
      "cell_type": "code",
      "source": [
        "model.fc1.weight"
      ],
      "metadata": {
        "colab": {
          "base_uri": "https://localhost:8080/"
        },
        "id": "iz8fvLVsUd_i",
        "outputId": "883211a8-866b-43c9-a7f1-44f323a23601"
      },
      "execution_count": 56,
      "outputs": [
        {
          "output_type": "execute_result",
          "data": {
            "text/plain": [
              "Parameter containing:\n",
              "tensor([[ 0.6565, -0.0492],\n",
              "        [-1.0053,  0.2452],\n",
              "        [ 0.5934,  0.0217],\n",
              "        [-0.2612,  0.0655],\n",
              "        [ 0.4904, -0.0372],\n",
              "        [ 0.6533,  0.2163],\n",
              "        [ 0.0286, -0.5248],\n",
              "        [-0.9361,  0.2955]], requires_grad=True)"
            ]
          },
          "metadata": {},
          "execution_count": 56
        }
      ]
    },
    {
      "cell_type": "code",
      "source": [
        "model.fc2.weight"
      ],
      "metadata": {
        "colab": {
          "base_uri": "https://localhost:8080/"
        },
        "id": "ZvvieKS3Ur0D",
        "outputId": "c811cd26-99aa-49b0-b93b-870377dd7bad"
      },
      "execution_count": 57,
      "outputs": [
        {
          "output_type": "execute_result",
          "data": {
            "text/plain": [
              "Parameter containing:\n",
              "tensor([[-1.0675,  0.7242, -0.9484,  1.1355, -0.7161, -1.3115,  0.4865,  0.9666]],\n",
              "       requires_grad=True)"
            ]
          },
          "metadata": {},
          "execution_count": 57
        }
      ]
    },
    {
      "cell_type": "code",
      "source": [
        "model.fc1.bias"
      ],
      "metadata": {
        "colab": {
          "base_uri": "https://localhost:8080/"
        },
        "id": "RlGXWkGRVU-m",
        "outputId": "4d867138-f320-4fda-d03f-a23be9c1ae3b"
      },
      "execution_count": 58,
      "outputs": [
        {
          "output_type": "execute_result",
          "data": {
            "text/plain": [
              "Parameter containing:\n",
              "tensor([ 1.5045, -0.2904,  0.8204,  0.1544,  1.0847, -1.5262,  0.4379,  1.0963],\n",
              "       requires_grad=True)"
            ]
          },
          "metadata": {},
          "execution_count": 58
        }
      ]
    },
    {
      "cell_type": "code",
      "source": [],
      "metadata": {
        "id": "OberZvZ-VHz7"
      },
      "execution_count": null,
      "outputs": []
    }
  ]
}