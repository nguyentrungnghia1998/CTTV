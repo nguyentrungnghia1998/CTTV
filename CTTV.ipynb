{
  "nbformat": 4,
  "nbformat_minor": 0,
  "metadata": {
    "colab": {
      "name": "CTTV.ipynb",
      "provenance": [],
      "collapsed_sections": []
    },
    "kernelspec": {
      "name": "python3",
      "display_name": "Python 3"
    },
    "language_info": {
      "name": "python"
    },
    "accelerator": "GPU",
    "gpuClass": "standard"
  },
  "cells": [
    {
      "cell_type": "code",
      "source": [
        "!mkdir /content/model\n",
        "!mkdir /content/model/critic\n",
        "!mkdir /content/model/actor"
      ],
      "metadata": {
        "colab": {
          "base_uri": "https://localhost:8080/"
        },
        "id": "vLPkDg_BtXDf",
        "outputId": "76e4e305-9b26-416f-d04c-be5f0016c499"
      },
      "execution_count": 1,
      "outputs": [
        {
          "output_type": "stream",
          "name": "stdout",
          "text": [
            "mkdir: cannot create directory ‘/content/model’: File exists\n",
            "mkdir: cannot create directory ‘/content/model/critic’: File exists\n",
            "mkdir: cannot create directory ‘/content/model/actor’: File exists\n"
          ]
        }
      ]
    },
    {
      "cell_type": "code",
      "execution_count": 2,
      "metadata": {
        "id": "09--JEuZddtt"
      },
      "outputs": [],
      "source": [
        "import numpy as np\n",
        "import pandas as pd \n",
        "import torch.nn as nn\n",
        "import torch\n",
        "import matplotlib.pyplot as plt\n",
        "from torch.autograd import Variable\n",
        "from torch.utils.data import DataLoader,TensorDataset\n",
        "from tqdm import tqdm"
      ]
    },
    {
      "cell_type": "code",
      "source": [
        "s = np.random.uniform(-2,2,5000)\n",
        "t = np.random.uniform(0,5,5000)\n",
        "S = np.vstack((s,t)).T"
      ],
      "metadata": {
        "id": "SnRpKTHGdogx"
      },
      "execution_count": 3,
      "outputs": []
    },
    {
      "cell_type": "code",
      "source": [
        "S = torch.Tensor(S)"
      ],
      "metadata": {
        "id": "lmtHcMZo2nyd"
      },
      "execution_count": 4,
      "outputs": []
    },
    {
      "cell_type": "code",
      "source": [
        "class Neural(nn.Module):\n",
        "    def __init__(self):\n",
        "        super(Neural,self).__init__()\n",
        "        self.fc1 = nn.Linear(2,8,bias=True)\n",
        "        self.tanh = nn.Tanh()\n",
        "        self.fc2 = nn.Linear(8,1,bias=False)\n",
        "    def forward(self,x):\n",
        "        x = self.tanh(self.fc1(x))\n",
        "        x = self.fc2(x)\n",
        "        return x"
      ],
      "metadata": {
        "id": "4UVXouUcd4J4"
      },
      "execution_count": 5,
      "outputs": []
    },
    {
      "cell_type": "code",
      "source": [
        "critic_model = Neural()\n",
        "actor_model = Neural()\n",
        "criterion_critic = torch.nn.MSELoss()\n",
        "optimizer_critic = torch.optim.Adam(critic_model.parameters(),lr = 0.002)\n",
        "criterion_actor = torch.nn.MSELoss()\n",
        "optimizer_actor = torch.optim.Adam(actor_model.parameters(),lr = 0.002)"
      ],
      "metadata": {
        "id": "XkAUGoP9eLid"
      },
      "execution_count": 6,
      "outputs": []
    },
    {
      "cell_type": "code",
      "source": [
        "def model_step(s,u,t):\n",
        "    Step = 0.05\n",
        "    s_new = s + Step*(0.2*(2+torch.sin(0.3*t*s))*s+u)\n",
        "    t_new = t + Step\n",
        "    return s_new,t_new"
      ],
      "metadata": {
        "id": "TQHtMuTnw_79"
      },
      "execution_count": 7,
      "outputs": []
    },
    {
      "cell_type": "code",
      "source": [
        "def initial_control(s,t):\n",
        "    u = -2*s-0.2*torch.sin(0.3*t*s)*s\n",
        "    return u"
      ],
      "metadata": {
        "id": "DKPe7GjNx7Hc"
      },
      "execution_count": 8,
      "outputs": []
    },
    {
      "cell_type": "code",
      "source": [
        "s_initial = torch.Tensor([1.0])\n",
        "t_initial = torch.Tensor([0])\n",
        "ss = []\n",
        "ts = []\n",
        "us = []\n",
        "ss.append(s_initial)\n",
        "ts.append(t_initial)\n",
        "s_old = s_initial\n",
        "t_old = t_initial\n",
        "for i in range(100):\n",
        "    u_curr = initial_control(s_old,t_old)\n",
        "    us.append(u_curr)\n",
        "    s_new,t_new = model_step(s_old,u_curr,t_old)\n",
        "    ss.append(s_new)\n",
        "    ts.append(t_new)\n",
        "    s_old = s_new\n",
        "    t_old = t_new"
      ],
      "metadata": {
        "id": "J_6ouNkRyK6p"
      },
      "execution_count": 18,
      "outputs": []
    },
    {
      "cell_type": "code",
      "source": [
        "plt.plot(ts,ss)\n",
        "plt.show()"
      ],
      "metadata": {
        "colab": {
          "base_uri": "https://localhost:8080/",
          "height": 354
        },
        "id": "NFUjzVFCzTbp",
        "outputId": "b6d561ff-a0e7-4c39-f94b-2d7bd4d80a4d"
      },
      "execution_count": 19,
      "outputs": [
        {
          "output_type": "stream",
          "name": "stderr",
          "text": [
            "/usr/local/lib/python3.7/dist-packages/numpy/core/shape_base.py:65: FutureWarning: The input object of type 'Tensor' is an array-like implementing one of the corresponding protocols (`__array__`, `__array_interface__` or `__array_struct__`); but not a sequence (or 0-D). In the future, this object will be coerced as if it was first converted using `np.array(obj)`. To retain the old behaviour, you have to either modify the type 'Tensor', or assign to an empty array created with `np.empty(correct_shape, dtype=object)`.\n",
            "  ary = asanyarray(ary)\n",
            "/usr/local/lib/python3.7/dist-packages/numpy/core/shape_base.py:65: VisibleDeprecationWarning: Creating an ndarray from ragged nested sequences (which is a list-or-tuple of lists-or-tuples-or ndarrays with different lengths or shapes) is deprecated. If you meant to do this, you must specify 'dtype=object' when creating the ndarray.\n",
            "  ary = asanyarray(ary)\n"
          ]
        },
        {
          "output_type": "display_data",
          "data": {
            "text/plain": [
              "<Figure size 432x288 with 1 Axes>"
            ],
            "image/png": "[encoded data removed]"
          },
          "metadata": {
            "needs_background": "light"
          }
        }
      ]
    },
    {
      "cell_type": "code",
      "source": [
        "plt.plot(ts[:-1],us)\n",
        "plt.show()"
      ],
      "metadata": {
        "colab": {
          "base_uri": "https://localhost:8080/",
          "height": 354
        },
        "id": "RbDJNYszBapm",
        "outputId": "83b92171-7364-4a4c-b6e6-9e11b41c4021"
      },
      "execution_count": 21,
      "outputs": [
        {
          "output_type": "stream",
          "name": "stderr",
          "text": [
            "/usr/local/lib/python3.7/dist-packages/numpy/core/shape_base.py:65: FutureWarning: The input object of type 'Tensor' is an array-like implementing one of the corresponding protocols (`__array__`, `__array_interface__` or `__array_struct__`); but not a sequence (or 0-D). In the future, this object will be coerced as if it was first converted using `np.array(obj)`. To retain the old behaviour, you have to either modify the type 'Tensor', or assign to an empty array created with `np.empty(correct_shape, dtype=object)`.\n",
            "  ary = asanyarray(ary)\n",
            "/usr/local/lib/python3.7/dist-packages/numpy/core/shape_base.py:65: VisibleDeprecationWarning: Creating an ndarray from ragged nested sequences (which is a list-or-tuple of lists-or-tuples-or ndarrays with different lengths or shapes) is deprecated. If you meant to do this, you must specify 'dtype=object' when creating the ndarray.\n",
            "  ary = asanyarray(ary)\n"
          ]
        },
        {
          "output_type": "display_data",
          "data": {
            "text/plain": [
              "<Figure size 432x288 with 1 Axes>"
            ],
            "image/png": "[encoded data removed]"
          },
          "metadata": {
            "needs_background": "light"
          }
        }
      ]
    },
    {
      "cell_type": "code",
      "source": [
        "def V_function(s,t,mode = 'neural'):\n",
        "    V = torch.Tensor([0.0])\n",
        "    Step = 0.05\n",
        "    s_old = s\n",
        "    t_old = t\n",
        "    for i in range(100):\n",
        "        if mode == \"custom\":\n",
        "            u_curr = initial_control(s_old,t_old)\n",
        "        else:\n",
        "            u_curr = Variable(actor_model(torch.hstack((s_old,t_old))),requires_grad = False)\n",
        "        V += ((0.2*s**2+0.2*u_curr**2)*Step)\n",
        "        s_new,t_new = model_step(s_old,u_curr,t_old)\n",
        "        s_old = s_new\n",
        "        t_old = t_new         \n",
        "    return V\n"
      ],
      "metadata": {
        "id": "9QxiwGC1uMDN"
      },
      "execution_count": 11,
      "outputs": []
    },
    {
      "cell_type": "code",
      "source": [
        "def train_critic(i):\n",
        "    dataset_V = DataLoader(TensorDataset(S,V),batch_size = 1, shuffle = True)\n",
        "    epochs = 50\n",
        "    print(f\"Train critic iterater {i}\")\n",
        "    for epoch in range(epochs):\n",
        "        train_loss = 0\n",
        "        critic_model.train()\n",
        "        for idx, inp in enumerate(dataset_V):\n",
        "            data,target = inp\n",
        "            optimizer_critic.zero_grad()\n",
        "            pred = critic_model(data)\n",
        "            loss_V = criterion_critic(target,pred)\n",
        "            loss_V.backward()\n",
        "            optimizer_critic.step()\n",
        "            train_loss += loss_V.item()\n",
        "        print(f\"Epoch {epoch+1}: MSE = {train_loss/len(dataset_V)}\")\n",
        "        if train_loss/len(dataset_V) < 1e-3:\n",
        "            break\n",
        "    PATH = f\"/content/model/critic/model_critic_{i}.pkl\"\n",
        "    torch.save(critic_model.state_dict(),PATH)"
      ],
      "metadata": {
        "id": "mj6dpCl02Jj1"
      },
      "execution_count": 12,
      "outputs": []
    },
    {
      "cell_type": "code",
      "source": [
        "def train_actor(iter):\n",
        "    Y1 = critic_model.fc1.weight\n",
        "    W1 = critic_model.fc2.weight\n",
        "    b1 = critic_model.fc1.bias\n",
        "    u_target = torch.zeros(len(S))\n",
        "    Y11 = Y1[:,0]\n",
        "    for i in range(len(S)):\n",
        "        u_target[i] = -2.5*W1@(Y11*(1-(torch.tanh(Y1@torch.Tensor(S[i])+b1))**2))\n",
        "    u_target = torch.autograd.Variable(torch.Tensor(u_target),requires_grad = False)\n",
        "    dataset_u = DataLoader(TensorDataset(S,u_target),batch_size = 1, shuffle = True)\n",
        "    epochs = 50\n",
        "    print(f\"Train actor iterater {iter}\")\n",
        "    for epoch in range(epochs):\n",
        "        train_loss = 0\n",
        "        actor_model.train()\n",
        "        for idx, inp in enumerate(dataset_u):\n",
        "            data,target = inp\n",
        "            optimizer_actor.zero_grad()\n",
        "            pred = actor_model(data)\n",
        "            loss_u = criterion_actor(target,pred)\n",
        "            loss_u.backward()\n",
        "            optimizer_actor.step()\n",
        "            train_loss += loss_u.item()\n",
        "        print(f\"Epoch {epoch+1}: MSE = {train_loss/len(dataset_u)}\")\n",
        "        if train_loss/len(dataset_u) < 1e-3:\n",
        "            break\n",
        "    PATH = f\"/content/model/actor/model_actor_{iter}.pkl\"\n",
        "    torch.save(actor_model.state_dict(),PATH)"
      ],
      "metadata": {
        "id": "Pru7nf_V-QgT"
      },
      "execution_count": 13,
      "outputs": []
    },
    {
      "cell_type": "code",
      "source": [
        "for iterater in range(3):\n",
        "    V = torch.zeros(5000)\n",
        "    for i in tqdm(range(5000)):\n",
        "        if iterater == 0:\n",
        "            V[i] = V_function(S[i,0],S[i,1],mode = \"custom\")\n",
        "        else:\n",
        "            V[i] = V_function(S[i,0],S[i,1],mode = \"neural\")\n",
        "    train_critic(iterater)\n",
        "    train_actor(iterater)\n",
        "\n"
      ],
      "metadata": {
        "colab": {
          "base_uri": "https://localhost:8080/"
        },
        "id": "W8IdMCi0rVps",
        "outputId": "95c34d43-c555-4a60-db7b-41024a7b561f"
      },
      "execution_count": 14,
      "outputs": [
        {
          "output_type": "stream",
          "name": "stderr",
          "text": [
            "100%|██████████| 5000/5000 [00:55<00:00, 89.67it/s] \n",
            "/usr/local/lib/python3.7/dist-packages/torch/nn/modules/loss.py:530: UserWarning: Using a target size (torch.Size([1, 1])) that is different to the input size (torch.Size([1])). This will likely lead to incorrect results due to broadcasting. Please ensure they have the same size.\n",
            "  return F.mse_loss(input, target, reduction=self.reduction)\n"
          ]
        },
        {
          "output_type": "stream",
          "name": "stdout",
          "text": [
            "Train critic iterater 0\n",
            "Epoch 1: MSE = 1.5744213316840843\n",
            "Epoch 2: MSE = 0.13844793698070842\n",
            "Epoch 3: MSE = 0.023262284449759793\n",
            "Epoch 4: MSE = 0.014614925735202677\n",
            "Epoch 5: MSE = 0.011495345485500076\n",
            "Epoch 6: MSE = 0.00974963522429365\n",
            "Epoch 7: MSE = 0.008304273238545039\n",
            "Epoch 8: MSE = 0.007381847539571845\n",
            "Epoch 9: MSE = 0.006831759616261557\n",
            "Epoch 10: MSE = 0.005976938591949476\n",
            "Epoch 11: MSE = 0.0054752011441189935\n",
            "Epoch 12: MSE = 0.005424288620138547\n",
            "Epoch 13: MSE = 0.004874579460681544\n",
            "Epoch 14: MSE = 0.004703670757404319\n",
            "Epoch 15: MSE = 0.004377970391397512\n",
            "Epoch 16: MSE = 0.004252018351734404\n",
            "Epoch 17: MSE = 0.0040782662867694655\n",
            "Epoch 18: MSE = 0.0038671523481473655\n",
            "Epoch 19: MSE = 0.0038800351948357573\n",
            "Epoch 20: MSE = 0.0035750572610126364\n",
            "Epoch 21: MSE = 0.0036266017113831908\n",
            "Epoch 22: MSE = 0.0037449464916494164\n",
            "Epoch 23: MSE = 0.0033127918364546935\n",
            "Epoch 24: MSE = 0.0034211285842847567\n",
            "Epoch 25: MSE = 0.003358314429162506\n",
            "Epoch 26: MSE = 0.003239438764543035\n",
            "Epoch 27: MSE = 0.003232563803631028\n",
            "Epoch 28: MSE = 0.003064743540117093\n",
            "Epoch 29: MSE = 0.0031243912079848522\n",
            "Epoch 30: MSE = 0.003174079726889957\n",
            "Epoch 31: MSE = 0.003100028152184666\n",
            "Epoch 32: MSE = 0.0031792706980366065\n",
            "Epoch 33: MSE = 0.002867669700386216\n",
            "Epoch 34: MSE = 0.0031074475867940276\n",
            "Epoch 35: MSE = 0.0029847936570951117\n",
            "Epoch 36: MSE = 0.002957034834836577\n",
            "Epoch 37: MSE = 0.002842566754104458\n",
            "Epoch 38: MSE = 0.0028220065382807947\n",
            "Epoch 39: MSE = 0.003179401532690787\n",
            "Epoch 40: MSE = 0.003050561960014944\n",
            "Epoch 41: MSE = 0.002916226973417845\n",
            "Epoch 42: MSE = 0.002688595535914552\n",
            "Epoch 43: MSE = 0.0027294906546817452\n",
            "Epoch 44: MSE = 0.0028822752341594493\n",
            "Epoch 45: MSE = 0.0026982338200982597\n",
            "Epoch 46: MSE = 0.0027015672236282108\n",
            "Epoch 47: MSE = 0.0026139890682986265\n",
            "Epoch 48: MSE = 0.002675914559392094\n",
            "Epoch 49: MSE = 0.002761771529948853\n",
            "Epoch 50: MSE = 0.0027706284423191347\n",
            "Train actor iterater 0\n",
            "Epoch 1: MSE = 4.63968120469647\n",
            "Epoch 2: MSE = 0.12545176042810208\n",
            "Epoch 3: MSE = 0.04817156708323193\n",
            "Epoch 4: MSE = 0.0346405076832665\n",
            "Epoch 5: MSE = 0.028494422609633772\n",
            "Epoch 6: MSE = 0.021421009775526644\n",
            "Epoch 7: MSE = 0.015232068515672884\n",
            "Epoch 8: MSE = 0.01214239559331607\n",
            "Epoch 9: MSE = 0.010778385848186812\n",
            "Epoch 10: MSE = 0.009979415649984193\n",
            "Epoch 11: MSE = 0.009264885868448574\n",
            "Epoch 12: MSE = 0.008444731403990451\n",
            "Epoch 13: MSE = 0.007851243739418083\n",
            "Epoch 14: MSE = 0.007498802944651399\n",
            "Epoch 15: MSE = 0.00711443909741823\n",
            "Epoch 16: MSE = 0.006822630438490495\n",
            "Epoch 17: MSE = 0.0065675310451367465\n",
            "Epoch 18: MSE = 0.006225536936196239\n",
            "Epoch 19: MSE = 0.006175231165236813\n",
            "Epoch 20: MSE = 0.006029369991276523\n",
            "Epoch 21: MSE = 0.005778707611426391\n",
            "Epoch 22: MSE = 0.0055886489346929896\n",
            "Epoch 23: MSE = 0.0055476749418107265\n",
            "Epoch 24: MSE = 0.005494296986710005\n",
            "Epoch 25: MSE = 0.005517993108208505\n",
            "Epoch 26: MSE = 0.005162124552198877\n",
            "Epoch 27: MSE = 0.0052225672230240905\n",
            "Epoch 28: MSE = 0.005202667294340284\n",
            "Epoch 29: MSE = 0.005132812441875138\n",
            "Epoch 30: MSE = 0.00507075167997963\n",
            "Epoch 31: MSE = 0.0049714111962416456\n",
            "Epoch 32: MSE = 0.004907345271751833\n",
            "Epoch 33: MSE = 0.004985614622090118\n",
            "Epoch 34: MSE = 0.004927227538807238\n",
            "Epoch 35: MSE = 0.004993995598899454\n",
            "Epoch 36: MSE = 0.004837034477551656\n",
            "Epoch 37: MSE = 0.004997172413972343\n",
            "Epoch 38: MSE = 0.004664751132816265\n",
            "Epoch 39: MSE = 0.004687007579916964\n",
            "Epoch 40: MSE = 0.004783943625548884\n",
            "Epoch 41: MSE = 0.004604990099785332\n",
            "Epoch 42: MSE = 0.00456798902513235\n",
            "Epoch 43: MSE = 0.004546129502290397\n",
            "Epoch 44: MSE = 0.004270624904752546\n",
            "Epoch 45: MSE = 0.0044500691150547\n",
            "Epoch 46: MSE = 0.004371837092877053\n",
            "Epoch 47: MSE = 0.0044256098826351365\n",
            "Epoch 48: MSE = 0.0043495893362326486\n",
            "Epoch 49: MSE = 0.004317877459347983\n",
            "Epoch 50: MSE = 0.004187444968137741\n"
          ]
        },
        {
          "output_type": "stream",
          "name": "stderr",
          "text": [
            "100%|██████████| 5000/5000 [01:07<00:00, 74.04it/s]\n"
          ]
        },
        {
          "output_type": "stream",
          "name": "stdout",
          "text": [
            "Train critic iterater 1\n",
            "Epoch 1: MSE = 0.010976715547269138\n",
            "Epoch 2: MSE = 0.004778858537383203\n",
            "Epoch 3: MSE = 0.0047431731938510635\n",
            "Epoch 4: MSE = 0.0044256539962409\n",
            "Epoch 5: MSE = 0.004355738081571288\n",
            "Epoch 6: MSE = 0.004271150921240449\n",
            "Epoch 7: MSE = 0.0043306999471446304\n",
            "Epoch 8: MSE = 0.004138095915799414\n",
            "Epoch 9: MSE = 0.0040456484422103775\n",
            "Epoch 10: MSE = 0.0037853708146673277\n",
            "Epoch 11: MSE = 0.0038488259593176034\n",
            "Epoch 12: MSE = 0.0035403772958020226\n",
            "Epoch 13: MSE = 0.003670772332354873\n",
            "Epoch 14: MSE = 0.0035533689839679326\n",
            "Epoch 15: MSE = 0.0036209996370813683\n",
            "Epoch 16: MSE = 0.0032087643675937456\n",
            "Epoch 17: MSE = 0.0033135020922564324\n",
            "Epoch 18: MSE = 0.0034208792060050784\n",
            "Epoch 19: MSE = 0.003341626985443827\n",
            "Epoch 20: MSE = 0.003216127171694032\n",
            "Epoch 21: MSE = 0.0032681312882324237\n",
            "Epoch 22: MSE = 0.0034170340130774044\n",
            "Epoch 23: MSE = 0.00298182910153359\n",
            "Epoch 24: MSE = 0.0037256251550752575\n",
            "Epoch 25: MSE = 0.0032746106895969254\n",
            "Epoch 26: MSE = 0.0029495480513050155\n",
            "Epoch 27: MSE = 0.0029538361299362654\n",
            "Epoch 28: MSE = 0.0030925810988869525\n",
            "Epoch 29: MSE = 0.0028810684103772947\n",
            "Epoch 30: MSE = 0.0030687922750292796\n",
            "Epoch 31: MSE = 0.0029639660962084333\n",
            "Epoch 32: MSE = 0.0028676377487063054\n",
            "Epoch 33: MSE = 0.003306816562763896\n",
            "Epoch 34: MSE = 0.003462377232999255\n",
            "Epoch 35: MSE = 0.00278068622204795\n",
            "Epoch 36: MSE = 0.002857363508366733\n",
            "Epoch 37: MSE = 0.003062336699983485\n",
            "Epoch 38: MSE = 0.0032311349273286753\n",
            "Epoch 39: MSE = 0.002760337727989545\n",
            "Epoch 40: MSE = 0.002610467330473116\n",
            "Epoch 41: MSE = 0.0028501299637715975\n",
            "Epoch 42: MSE = 0.0028872839011405346\n",
            "Epoch 43: MSE = 0.0028498679872844667\n",
            "Epoch 44: MSE = 0.00245664852189369\n",
            "Epoch 45: MSE = 0.003126849915919195\n",
            "Epoch 46: MSE = 0.003040240849027004\n",
            "Epoch 47: MSE = 0.0027792476329643713\n",
            "Epoch 48: MSE = 0.0032670844838098203\n",
            "Epoch 49: MSE = 0.0030442170146881553\n",
            "Epoch 50: MSE = 0.0027629573048560075\n",
            "Train actor iterater 1\n",
            "Epoch 1: MSE = 0.04783866371212316\n",
            "Epoch 2: MSE = 0.021177075094074665\n",
            "Epoch 3: MSE = 0.019961998397452798\n",
            "Epoch 4: MSE = 0.01879061954472026\n",
            "Epoch 5: MSE = 0.018295017926958222\n",
            "Epoch 6: MSE = 0.017922298546083064\n",
            "Epoch 7: MSE = 0.017565922665911057\n",
            "Epoch 8: MSE = 0.017455775642691358\n",
            "Epoch 9: MSE = 0.01700653005179789\n",
            "Epoch 10: MSE = 0.016776807910868784\n",
            "Epoch 11: MSE = 0.01659099632485166\n",
            "Epoch 12: MSE = 0.01642115714270585\n",
            "Epoch 13: MSE = 0.015987653987050727\n",
            "Epoch 14: MSE = 0.01599639137040659\n",
            "Epoch 15: MSE = 0.01550932392005309\n",
            "Epoch 16: MSE = 0.015644088963521617\n",
            "Epoch 17: MSE = 0.01556117369195388\n",
            "Epoch 18: MSE = 0.015434192904244758\n",
            "Epoch 19: MSE = 0.015134439216989006\n",
            "Epoch 20: MSE = 0.015060559999111914\n",
            "Epoch 21: MSE = 0.014919286716495308\n",
            "Epoch 22: MSE = 0.014758855141910636\n",
            "Epoch 23: MSE = 0.014866840862629719\n",
            "Epoch 24: MSE = 0.014711399792739766\n",
            "Epoch 25: MSE = 0.014197785376274441\n",
            "Epoch 26: MSE = 0.014024634511030299\n",
            "Epoch 27: MSE = 0.014397746794416437\n",
            "Epoch 28: MSE = 0.014449073541176737\n",
            "Epoch 29: MSE = 0.014172063792095877\n",
            "Epoch 30: MSE = 0.013973860245381801\n",
            "Epoch 31: MSE = 0.013802149393018763\n",
            "Epoch 32: MSE = 0.013666301418068696\n",
            "Epoch 33: MSE = 0.013612557071205025\n",
            "Epoch 34: MSE = 0.01345805853458001\n",
            "Epoch 35: MSE = 0.013697934955415176\n",
            "Epoch 36: MSE = 0.013603816008209148\n",
            "Epoch 37: MSE = 0.013438274973742139\n",
            "Epoch 38: MSE = 0.013279950973381452\n",
            "Epoch 39: MSE = 0.013282749463639732\n",
            "Epoch 40: MSE = 0.013420500259941286\n",
            "Epoch 41: MSE = 0.013142347310172426\n",
            "Epoch 42: MSE = 0.013212682419387875\n",
            "Epoch 43: MSE = 0.01309596734524323\n",
            "Epoch 44: MSE = 0.01330550286580905\n",
            "Epoch 45: MSE = 0.013252907318035875\n",
            "Epoch 46: MSE = 0.012946213111085023\n",
            "Epoch 47: MSE = 0.013150163544815246\n",
            "Epoch 48: MSE = 0.01271042146535575\n",
            "Epoch 49: MSE = 0.012738802368817605\n",
            "Epoch 50: MSE = 0.012774099497106497\n"
          ]
        },
        {
          "output_type": "stream",
          "name": "stderr",
          "text": [
            "100%|██████████| 5000/5000 [01:07<00:00, 73.97it/s]\n"
          ]
        },
        {
          "output_type": "stream",
          "name": "stdout",
          "text": [
            "Train critic iterater 2\n",
            "Epoch 1: MSE = 0.00552031677015366\n",
            "Epoch 2: MSE = 0.004457828096415741\n",
            "Epoch 3: MSE = 0.004153753713454558\n",
            "Epoch 4: MSE = 0.0043273597746191226\n",
            "Epoch 5: MSE = 0.0039497956720414475\n",
            "Epoch 6: MSE = 0.004136741523630528\n",
            "Epoch 7: MSE = 0.004103099874615994\n",
            "Epoch 8: MSE = 0.0043273654110368735\n",
            "Epoch 9: MSE = 0.004172633746765928\n",
            "Epoch 10: MSE = 0.003943041407782332\n",
            "Epoch 11: MSE = 0.004511127856538513\n",
            "Epoch 12: MSE = 0.0037556027184316547\n",
            "Epoch 13: MSE = 0.0039541867797237935\n",
            "Epoch 14: MSE = 0.003976343250465024\n",
            "Epoch 15: MSE = 0.004537422905556418\n",
            "Epoch 16: MSE = 0.003930282257202531\n",
            "Epoch 17: MSE = 0.004198037202246541\n",
            "Epoch 18: MSE = 0.003839797887534423\n",
            "Epoch 19: MSE = 0.0038995971277853685\n",
            "Epoch 20: MSE = 0.004098374040069312\n",
            "Epoch 21: MSE = 0.004014950824150138\n",
            "Epoch 22: MSE = 0.0038185551587876787\n",
            "Epoch 23: MSE = 0.004293671575197614\n",
            "Epoch 24: MSE = 0.0037785184918203998\n",
            "Epoch 25: MSE = 0.004067745966784121\n",
            "Epoch 26: MSE = 0.0039397923238548745\n",
            "Epoch 27: MSE = 0.004048945343396551\n",
            "Epoch 28: MSE = 0.0036529296813676594\n",
            "Epoch 29: MSE = 0.0036480294087015337\n",
            "Epoch 30: MSE = 0.0034418496177098363\n",
            "Epoch 31: MSE = 0.003912120180237098\n",
            "Epoch 32: MSE = 0.00372323502778709\n",
            "Epoch 33: MSE = 0.003714850123656435\n",
            "Epoch 34: MSE = 0.004053234259221934\n",
            "Epoch 35: MSE = 0.0036846370787201443\n",
            "Epoch 36: MSE = 0.003931981249820734\n",
            "Epoch 37: MSE = 0.003711954568946048\n",
            "Epoch 38: MSE = 0.0035867414552527505\n",
            "Epoch 39: MSE = 0.004285598549932488\n",
            "Epoch 40: MSE = 0.0038589450764090253\n",
            "Epoch 41: MSE = 0.004251147390707973\n",
            "Epoch 42: MSE = 0.003620223483288298\n",
            "Epoch 43: MSE = 0.00338344245006337\n",
            "Epoch 44: MSE = 0.003735773195237772\n",
            "Epoch 45: MSE = 0.003966426645206028\n",
            "Epoch 46: MSE = 0.0034860320430262237\n",
            "Epoch 47: MSE = 0.003704216119428514\n",
            "Epoch 48: MSE = 0.0036477996290873818\n",
            "Epoch 49: MSE = 0.0037694971595800815\n",
            "Epoch 50: MSE = 0.003939137668891825\n",
            "Train actor iterater 2\n",
            "Epoch 1: MSE = 0.06735543888077108\n",
            "Epoch 2: MSE = 0.057163088143374126\n",
            "Epoch 3: MSE = 0.0565236276005231\n",
            "Epoch 4: MSE = 0.05638599841874512\n",
            "Epoch 5: MSE = 0.05606973570969283\n",
            "Epoch 6: MSE = 0.05508846010279096\n",
            "Epoch 7: MSE = 0.05565961319439516\n",
            "Epoch 8: MSE = 0.05542569392711805\n",
            "Epoch 9: MSE = 0.05444056224129863\n",
            "Epoch 10: MSE = 0.053990632543357696\n",
            "Epoch 11: MSE = 0.05466661725648284\n",
            "Epoch 12: MSE = 0.053989946014844824\n",
            "Epoch 13: MSE = 0.053506371476811795\n",
            "Epoch 14: MSE = 0.0536892694499914\n",
            "Epoch 15: MSE = 0.053231939421915044\n",
            "Epoch 16: MSE = 0.053419748443394324\n",
            "Epoch 17: MSE = 0.05352371411337332\n",
            "Epoch 18: MSE = 0.0525074428386226\n",
            "Epoch 19: MSE = 0.052774385835756936\n",
            "Epoch 20: MSE = 0.05193135265219478\n",
            "Epoch 21: MSE = 0.0521797471705117\n",
            "Epoch 22: MSE = 0.05208020141291405\n",
            "Epoch 23: MSE = 0.05112506114530131\n",
            "Epoch 24: MSE = 0.05128349718999749\n",
            "Epoch 25: MSE = 0.05192267917674029\n",
            "Epoch 26: MSE = 0.05175855888718613\n",
            "Epoch 27: MSE = 0.05136325875644894\n",
            "Epoch 28: MSE = 0.05100232510325854\n",
            "Epoch 29: MSE = 0.05044602893672127\n",
            "Epoch 30: MSE = 0.05078250490671288\n",
            "Epoch 31: MSE = 0.05032627205819588\n",
            "Epoch 32: MSE = 0.050209509204246515\n",
            "Epoch 33: MSE = 0.04991002816771851\n",
            "Epoch 34: MSE = 0.050232551930558464\n",
            "Epoch 35: MSE = 0.050017623682002854\n",
            "Epoch 36: MSE = 0.049255810511376265\n",
            "Epoch 37: MSE = 0.04997253686413659\n",
            "Epoch 38: MSE = 0.04954096751852319\n",
            "Epoch 39: MSE = 0.049674554002161746\n",
            "Epoch 40: MSE = 0.04890920303811344\n",
            "Epoch 41: MSE = 0.0489514737639765\n",
            "Epoch 42: MSE = 0.04918116281763417\n",
            "Epoch 43: MSE = 0.04878564531665803\n",
            "Epoch 44: MSE = 0.047890106018870914\n",
            "Epoch 45: MSE = 0.04727377888768313\n",
            "Epoch 46: MSE = 0.04699778249224279\n",
            "Epoch 47: MSE = 0.0459424000390962\n",
            "Epoch 48: MSE = 0.04482157517514338\n",
            "Epoch 49: MSE = 0.041398465609699085\n",
            "Epoch 50: MSE = 0.0365581880834206\n"
          ]
        }
      ]
    },
    {
      "cell_type": "code",
      "source": [
        "ss_data = {}\n",
        "us_data = {}\n",
        "for iterater in range(3):\n",
        "    model = Neural()\n",
        "    PATH = f\"/content/model/actor/model_actor_{iterater}.pkl\"\n",
        "    model.load_state_dict(torch.load(PATH))\n",
        "    s_initial = torch.Tensor([1.0])\n",
        "    t_initial = torch.Tensor([0])\n",
        "    ss_data[iterater] = []\n",
        "    us_data[iterater] = []\n",
        "    ts = []\n",
        "    ss_data[iterater].append(s_initial)\n",
        "    ts.append(t_initial)\n",
        "    s_old = s_initial\n",
        "    t_old = t_initial\n",
        "    for i in range(100):\n",
        "        u_curr = Variable(actor_model(torch.hstack((s_old,t_old))),requires_grad = False)\n",
        "        us_data[iterater].append(u_curr)\n",
        "        s_new,t_new = model_step(s_old,u_curr,t_old)\n",
        "        ss_data[iterater].append(s_new)\n",
        "        ts.append(t_new)\n",
        "        s_old = s_new\n",
        "        t_old = t_new"
      ],
      "metadata": {
        "id": "la15cn2EzTFY"
      },
      "execution_count": 16,
      "outputs": []
    },
    {
      "cell_type": "code",
      "source": [
        "plt.plot(ts,ss)\n",
        "plt.plot(ts,ss_data[0])\n",
        "plt.plot(ts,ss_data[1])\n",
        "plt.plot(ts,ss_data[2])"
      ],
      "metadata": {
        "colab": {
          "base_uri": "https://localhost:8080/",
          "height": 372
        },
        "id": "7JmycB1X3PKA",
        "outputId": "282034e0-d223-425f-f112-532597db5f74"
      },
      "execution_count": 17,
      "outputs": [
        {
          "output_type": "stream",
          "name": "stderr",
          "text": [
            "/usr/local/lib/python3.7/dist-packages/numpy/core/shape_base.py:65: FutureWarning: The input object of type 'Tensor' is an array-like implementing one of the corresponding protocols (`__array__`, `__array_interface__` or `__array_struct__`); but not a sequence (or 0-D). In the future, this object will be coerced as if it was first converted using `np.array(obj)`. To retain the old behaviour, you have to either modify the type 'Tensor', or assign to an empty array created with `np.empty(correct_shape, dtype=object)`.\n",
            "  ary = asanyarray(ary)\n",
            "/usr/local/lib/python3.7/dist-packages/numpy/core/shape_base.py:65: VisibleDeprecationWarning: Creating an ndarray from ragged nested sequences (which is a list-or-tuple of lists-or-tuples-or ndarrays with different lengths or shapes) is deprecated. If you meant to do this, you must specify 'dtype=object' when creating the ndarray.\n",
            "  ary = asanyarray(ary)\n"
          ]
        },
        {
          "output_type": "execute_result",
          "data": {
            "text/plain": [
              "[<matplotlib.lines.Line2D at 0x7f53d295e5d0>]"
            ]
          },
          "metadata": {},
          "execution_count": 17
        },
        {
          "output_type": "display_data",
          "data": {
            "text/plain": [
              "<Figure size 432x288 with 1 Axes>"
            ],
            "image/png": "[encoded data removed]"
          },
          "metadata": {
            "needs_background": "light"
          }
        }
      ]
    },
    {
      "cell_type": "code",
      "source": [
        "plt.plot(ts[:-1],us)\n",
        "plt.plot(ts[:-1],us_data[0])\n",
        "plt.plot(ts[:-1],us_data[1])\n",
        "plt.plot(ts[:-1],us_data[2])"
      ],
      "metadata": {
        "colab": {
          "base_uri": "https://localhost:8080/",
          "height": 372
        },
        "id": "oUl31xEVBPAL",
        "outputId": "f62bd767-e36d-4d89-f387-a69c54952b23"
      },
      "execution_count": 22,
      "outputs": [
        {
          "output_type": "stream",
          "name": "stderr",
          "text": [
            "/usr/local/lib/python3.7/dist-packages/numpy/core/shape_base.py:65: FutureWarning: The input object of type 'Tensor' is an array-like implementing one of the corresponding protocols (`__array__`, `__array_interface__` or `__array_struct__`); but not a sequence (or 0-D). In the future, this object will be coerced as if it was first converted using `np.array(obj)`. To retain the old behaviour, you have to either modify the type 'Tensor', or assign to an empty array created with `np.empty(correct_shape, dtype=object)`.\n",
            "  ary = asanyarray(ary)\n",
            "/usr/local/lib/python3.7/dist-packages/numpy/core/shape_base.py:65: VisibleDeprecationWarning: Creating an ndarray from ragged nested sequences (which is a list-or-tuple of lists-or-tuples-or ndarrays with different lengths or shapes) is deprecated. If you meant to do this, you must specify 'dtype=object' when creating the ndarray.\n",
            "  ary = asanyarray(ary)\n"
          ]
        },
        {
          "output_type": "execute_result",
          "data": {
            "text/plain": [
              "[<matplotlib.lines.Line2D at 0x7f53ca146ad0>]"
            ]
          },
          "metadata": {},
          "execution_count": 22
        },
        {
          "output_type": "display_data",
          "data": {
            "text/plain": [
              "<Figure size 432x288 with 1 Axes>"
            ],
            "image/png": "[encoded data removed]"
          },
          "metadata": {
            "needs_background": "light"
          }
        }
      ]
    },
    {
      "cell_type": "code",
      "source": [],
      "metadata": {
        "id": "zpvnkijFCAyp"
      },
      "execution_count": null,
      "outputs": []
    }
  ]
}